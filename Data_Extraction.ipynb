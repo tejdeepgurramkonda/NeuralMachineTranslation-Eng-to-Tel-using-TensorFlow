{
  "nbformat": 4,
  "nbformat_minor": 0,
  "metadata": {
    "colab": {
      "name": "Data_Extraction.ipynb",
      "provenance": []
    },
    "kernelspec": {
      "name": "python3",
      "display_name": "Python 3"
    },
    "language_info": {
      "name": "python"
    }
  },
  "cells": [
    {
      "cell_type": "code",
      "metadata": {
        "id": "yi-AvZUffN35"
      },
      "source": [
        "import six\n",
        "from google.cloud import translate_v2 as translate\n",
        "import pandas as pd\n",
        "import numpy as np"
      ],
      "execution_count": null,
      "outputs": []
    },
    {
      "cell_type": "code",
      "metadata": {
        "id": "XoWQRagfjq6S"
      },
      "source": [
        "import os\n",
        "os.environ['GOOGLE_APPLICATION_CREDENTIALS']=\"KEY_PATH\""
      ],
      "execution_count": null,
      "outputs": []
    },
    {
      "cell_type": "code",
      "metadata": {
        "id": "iEODgEAreqPS"
      },
      "source": [
        "def translate_text(target, text):\n",
        "    \"\"\"Translates text into the target language.\n",
        "\n",
        "    Target must be an ISO 639-1 language code.\n",
        "    See https://g.co/cloud/translate/v2/translate-reference#supported_languages\n",
        "    \"\"\"\n",
        "\n",
        "    translate_client = translate.Client()\n",
        "\n",
        "    if isinstance(text, six.binary_type):\n",
        "        text = text.decode(\"utf-8\")\n",
        "\n",
        "    # will return a sequence of results for each text.\n",
        "    result = translate_client.translate(text, target_language=target)\n",
        "\n",
        "\n",
        "    return result[\"input\"],result[\"translatedText\"]"
      ],
      "execution_count": null,
      "outputs": []
    },
    {
      "cell_type": "code",
      "metadata": {
        "colab": {
          "base_uri": "https://localhost:8080/"
        },
        "id": "LSCZfh1FfnxL",
        "outputId": "ecb621a6-4ce4-451c-d739-0f4e5e23ec52"
      },
      "source": [
        "input,output=translate_text('te', 'how are you doing')\n",
        "print('Input Sentence in English :',input)\n",
        "print('Output Sentence in Telugu :',output)"
      ],
      "execution_count": null,
      "outputs": [
        {
          "output_type": "stream",
          "text": [
            "Input Sentence in English : how are you doing\n",
            "Output Sentence in Telugu : నువ్వు ఎలా ఉన్నావు\n"
          ],
          "name": "stdout"
        }
      ]
    },
    {
      "cell_type": "code",
      "metadata": {
        "colab": {
          "base_uri": "https://localhost:8080/",
          "height": 204
        },
        "id": "SGVUzjEDsTpW",
        "outputId": "b6f7d6ae-ed76-4553-9ab6-98816cc33c79"
      },
      "source": [
        "eng_hin=pd.read_csv('eng_hin.csv') # Using the english to hindi dataset for getting english sentences\n",
        "eng_hin.dropna(inplace=True)\n",
        "eng_hin.drop(['source','hindi_sentence'],axis=1,inplace=True)\n",
        "eng_hin.head()"
      ],
      "execution_count": null,
      "outputs": [
        {
          "output_type": "execute_result",
          "data": {
            "text/html": [
              "<div>\n",
              "<style scoped>\n",
              "    .dataframe tbody tr th:only-of-type {\n",
              "        vertical-align: middle;\n",
              "    }\n",
              "\n",
              "    .dataframe tbody tr th {\n",
              "        vertical-align: top;\n",
              "    }\n",
              "\n",
              "    .dataframe thead th {\n",
              "        text-align: right;\n",
              "    }\n",
              "</style>\n",
              "<table border=\"1\" class=\"dataframe\">\n",
              "  <thead>\n",
              "    <tr style=\"text-align: right;\">\n",
              "      <th></th>\n",
              "      <th>english_sentence</th>\n",
              "    </tr>\n",
              "  </thead>\n",
              "  <tbody>\n",
              "    <tr>\n",
              "      <th>0</th>\n",
              "      <td>politicians do not have permission to do what ...</td>\n",
              "    </tr>\n",
              "    <tr>\n",
              "      <th>1</th>\n",
              "      <td>I'd like to tell you about one such child,</td>\n",
              "    </tr>\n",
              "    <tr>\n",
              "      <th>2</th>\n",
              "      <td>This percentage is even greater than the perce...</td>\n",
              "    </tr>\n",
              "    <tr>\n",
              "      <th>3</th>\n",
              "      <td>what we really mean is that they're bad at not...</td>\n",
              "    </tr>\n",
              "    <tr>\n",
              "      <th>4</th>\n",
              "      <td>.The ending portion of these Vedas is called U...</td>\n",
              "    </tr>\n",
              "  </tbody>\n",
              "</table>\n",
              "</div>"
            ],
            "text/plain": [
              "                                    english_sentence\n",
              "0  politicians do not have permission to do what ...\n",
              "1         I'd like to tell you about one such child,\n",
              "2  This percentage is even greater than the perce...\n",
              "3  what we really mean is that they're bad at not...\n",
              "4  .The ending portion of these Vedas is called U..."
            ]
          },
          "metadata": {
            "tags": []
          },
          "execution_count": 42
        }
      ]
    },
    {
      "cell_type": "code",
      "metadata": {
        "id": "wLBhIvysze3c"
      },
      "source": [
        "eng_tel=[]\n",
        "length=0\n",
        "for index,row in eng_hin.iterrows():\n",
        "  length+=len(row['english_sentence'])\n",
        "  if length>499000: # Google Translate Api charges for the translation above 500,000 characters, to avoid charges limiting translations to 499k characters.\n",
        "    break\n",
        "  input,output=translate_text('te', row['english_sentence'])\n",
        "  eng_tel.append([input,output])"
      ],
      "execution_count": null,
      "outputs": []
    },
    {
      "cell_type": "code",
      "metadata": {
        "colab": {
          "base_uri": "https://localhost:8080/",
          "height": 204
        },
        "id": "gUEX9ig5vQ1-",
        "outputId": "de4bc74b-0c67-47ac-ad4e-ef243f6e2660"
      },
      "source": [
        "eng_tel_df=pd.DataFrame(eng_tel,columns=['English','Telugu'])\n",
        "eng_tel_df.head()"
      ],
      "execution_count": null,
      "outputs": [
        {
          "output_type": "execute_result",
          "data": {
            "text/html": [
              "<div>\n",
              "<style scoped>\n",
              "    .dataframe tbody tr th:only-of-type {\n",
              "        vertical-align: middle;\n",
              "    }\n",
              "\n",
              "    .dataframe tbody tr th {\n",
              "        vertical-align: top;\n",
              "    }\n",
              "\n",
              "    .dataframe thead th {\n",
              "        text-align: right;\n",
              "    }\n",
              "</style>\n",
              "<table border=\"1\" class=\"dataframe\">\n",
              "  <thead>\n",
              "    <tr style=\"text-align: right;\">\n",
              "      <th></th>\n",
              "      <th>English</th>\n",
              "      <th>Telugu</th>\n",
              "    </tr>\n",
              "  </thead>\n",
              "  <tbody>\n",
              "    <tr>\n",
              "      <th>0</th>\n",
              "      <td>politicians do not have permission to do what ...</td>\n",
              "      <td>రాజకీయ నాయకులకు చేయవలసినది చేయడానికి అనుమతి లేదు.</td>\n",
              "    </tr>\n",
              "    <tr>\n",
              "      <th>1</th>\n",
              "      <td>I'd like to tell you about one such child,</td>\n",
              "      <td>అలాంటి ఒక పిల్లల గురించి నేను మీకు చెప్పాలనుకు...</td>\n",
              "    </tr>\n",
              "    <tr>\n",
              "      <th>2</th>\n",
              "      <td>This percentage is even greater than the perce...</td>\n",
              "      <td>ఈ శాతం భారతదేశంలో ఉన్న శాతం కంటే ఎక్కువ.</td>\n",
              "    </tr>\n",
              "    <tr>\n",
              "      <th>3</th>\n",
              "      <td>what we really mean is that they're bad at not...</td>\n",
              "      <td>మేము నిజంగా అర్థం ఏమిటంటే వారు శ్రద్ధ చూపకపోవడ...</td>\n",
              "    </tr>\n",
              "    <tr>\n",
              "      <th>4</th>\n",
              "      <td>.The ending portion of these Vedas is called U...</td>\n",
              "      <td>.ఈ వేదాల ముగింపు భాగాన్ని ఉపనిషత్తు అంటారు.</td>\n",
              "    </tr>\n",
              "  </tbody>\n",
              "</table>\n",
              "</div>"
            ],
            "text/plain": [
              "                                             English                                             Telugu\n",
              "0  politicians do not have permission to do what ...  రాజకీయ నాయకులకు చేయవలసినది చేయడానికి అనుమతి లేదు.\n",
              "1         I'd like to tell you about one such child,  అలాంటి ఒక పిల్లల గురించి నేను మీకు చెప్పాలనుకు...\n",
              "2  This percentage is even greater than the perce...           ఈ శాతం భారతదేశంలో ఉన్న శాతం కంటే ఎక్కువ.\n",
              "3  what we really mean is that they're bad at not...  మేము నిజంగా అర్థం ఏమిటంటే వారు శ్రద్ధ చూపకపోవడ...\n",
              "4  .The ending portion of these Vedas is called U...        .ఈ వేదాల ముగింపు భాగాన్ని ఉపనిషత్తు అంటారు."
            ]
          },
          "metadata": {
            "tags": []
          },
          "execution_count": 39
        }
      ]
    },
    {
      "cell_type": "code",
      "metadata": {
        "colab": {
          "base_uri": "https://localhost:8080/"
        },
        "id": "7G0ZR9wu1hd-",
        "outputId": "6704eb52-cc21-4191-e166-f63c1af98f81"
      },
      "source": [
        "eng_tel_df.shape"
      ],
      "execution_count": null,
      "outputs": [
        {
          "output_type": "execute_result",
          "data": {
            "text/plain": [
              "(5615, 2)"
            ]
          },
          "metadata": {
            "tags": []
          },
          "execution_count": 40
        }
      ]
    },
    {
      "cell_type": "code",
      "metadata": {
        "id": "885xWh0j1jd1"
      },
      "source": [
        "eng_tel_df.to_csv('eng_tel.csv',index=False)"
      ],
      "execution_count": null,
      "outputs": []
    }
  ]
}